{
  "nbformat": 4,
  "nbformat_minor": 0,
  "metadata": {
    "colab": {
      "name": "Group15-Emotion_Detection_In_Masked_Faces.ipynb",
      "provenance": [],
      "collapsed_sections": []
    },
    "kernelspec": {
      "name": "python3",
      "display_name": "Python 3"
    },
    "language_info": {
      "name": "python"
    },
    "accelerator": "GPU"
  },
  "cells": [
    {
      "cell_type": "code",
      "execution_count": null,
      "metadata": {
        "id": "4R9hOEvOhVXp"
      },
      "outputs": [],
      "source": [
        "import tensorflow as tf\n",
        "import tensorflow_hub as hub\n",
        "import os\n",
        "from tensorflow.keras import Sequential\n",
        "from tensorflow.keras.layers import Dense, Flatten, Conv2D\n",
        "from tensorflow.keras import Model\n",
        "from tensorflow.keras.preprocessing.image import ImageDataGenerator\n",
        "from tensorflow.keras.optimizers import Adam\n",
        "from tensorflow.keras import layers\n",
        "#from keras import optimizers\n",
        "from keras.models import Model\n",
        "from keras.applications.vgg16 import VGG16\n",
        "from keras.applications.vgg16 import preprocess_input\n",
        "from keras.preprocessing import image\n",
        "from keras.preprocessing.image import ImageDataGenerator\n",
        "import matplotlib.pyplot as plt\n",
        "from glob import glob\n",
        "import cv2\n",
        "\n",
        "import warnings\n",
        "warnings.filterwarnings(\"ignore\", category=FutureWarning)"
      ]
    },
    {
      "cell_type": "code",
      "source": [
        "from google.colab import drive\n",
        "drive.mount('/content/gdrive')"
      ],
      "metadata": {
        "colab": {
          "base_uri": "https://localhost:8080/"
        },
        "id": "3CzeI73kh6ZD",
        "outputId": "2a7653bf-ee2f-4513-bf83-0d470045fd8c"
      },
      "execution_count": null,
      "outputs": [
        {
          "output_type": "stream",
          "name": "stdout",
          "text": [
            "Mounted at /content/gdrive\n"
          ]
        }
      ]
    },
    {
      "cell_type": "code",
      "source": [
        "img = cv2.imread('/content/gdrive/MyDrive/NNDL/Project/masked-dataset/test/angry/S127_010_00000017.png')\n",
        "print(img.shape)"
      ],
      "metadata": {
        "colab": {
          "base_uri": "https://localhost:8080/"
        },
        "id": "uTVOpBhxrDov",
        "outputId": "38e778c0-862a-40ff-e734-387dbf9072f3"
      },
      "execution_count": null,
      "outputs": [
        {
          "output_type": "stream",
          "name": "stdout",
          "text": [
            "(48, 48, 3)\n"
          ]
        }
      ]
    },
    {
      "cell_type": "code",
      "source": [
        "train_path = '/content/gdrive/MyDrive/NNDL/Project/masked-dataset/train'\n",
        "test_path = '/content/gdrive/MyDrive/NNDL/Project/masked-dataset/test'"
      ],
      "metadata": {
        "id": "anI-lQAJmUeO"
      },
      "execution_count": null,
      "outputs": []
    },
    {
      "cell_type": "code",
      "source": [
        "IMAGE_SIZE = [48,48]"
      ],
      "metadata": {
        "id": "9FuBsEPPmyGn"
      },
      "execution_count": null,
      "outputs": []
    },
    {
      "cell_type": "code",
      "source": [
        "import time\n",
        "import os\n",
        "from os.path import exists\n",
        "\n",
        "def count(dir, counter=0):\n",
        "    \"returns number of files in dir and subdirs\"\n",
        "    for pack in os.walk(dir):\n",
        "        for f in pack[2]:\n",
        "            counter += 1\n",
        "    return dir + \" : \" + str(counter) + \"files\""
      ],
      "metadata": {
        "id": "tMz7AecjpZqR"
      },
      "execution_count": null,
      "outputs": []
    },
    {
      "cell_type": "code",
      "source": [
        "print('total images for training :', count(train_path))\n",
        "print('total images for test :', count(test_path))"
      ],
      "metadata": {
        "colab": {
          "base_uri": "https://localhost:8080/"
        },
        "id": "GJSCbcDCqfXk",
        "outputId": "2e3a5d7c-1277-4f0f-e5a2-e162d8e28c8b"
      },
      "execution_count": null,
      "outputs": [
        {
          "output_type": "stream",
          "name": "stdout",
          "text": [
            "total images for training : /content/gdrive/MyDrive/NNDL/Project/masked-dataset/train : 300files\n",
            "total images for test : /content/gdrive/MyDrive/NNDL/Project/masked-dataset/test : 126files\n"
          ]
        }
      ]
    },
    {
      "cell_type": "code",
      "source": [
        "folders = glob('/content/gdrive/MyDrive/NNDL/Project/masked-dataset/train/*')\n",
        "print(len(folders))"
      ],
      "metadata": {
        "colab": {
          "base_uri": "https://localhost:8080/"
        },
        "id": "qT1MYvxkqfZ-",
        "outputId": "6fea9ac7-4822-4857-9749-6fd9bf0eaed0"
      },
      "execution_count": null,
      "outputs": [
        {
          "output_type": "stream",
          "name": "stdout",
          "text": [
            "3\n"
          ]
        }
      ]
    },
    {
      "cell_type": "code",
      "source": [
        "BATCH_SIZE = 32\n",
        "\n",
        "train_generator = ImageDataGenerator(validation_split=0.15,\n",
        "                                     preprocessing_function=preprocess_input) # VGG16 preprocessing\n",
        "\n",
        "test_generator = ImageDataGenerator(preprocessing_function=preprocess_input) # VGG16 preprocessin"
      ],
      "metadata": {
        "id": "Dwv5goAgqfcK"
      },
      "execution_count": null,
      "outputs": []
    },
    {
      "cell_type": "code",
      "source": [
        "class_subset = sorted(os.listdir('/content/gdrive/MyDrive/NNDL/Project/masked-dataset/train'))\n",
        "print(class_subset)\n",
        "traingen = train_generator.flow_from_directory(train_path,\n",
        "                                               target_size=(48,48),\n",
        "                                               class_mode='categorical',\n",
        "                                               classes=class_subset,\n",
        "                                               subset='training',\n",
        "                                               batch_size=BATCH_SIZE, \n",
        "                                               shuffle=True,\n",
        "                                               seed=5)\n",
        "\n",
        "validgen = train_generator.flow_from_directory(train_path,\n",
        "                                               target_size=(48,48),\n",
        "                                               class_mode='categorical',\n",
        "                                               classes=class_subset,\n",
        "                                               subset='validation',\n",
        "                                               batch_size=BATCH_SIZE,\n",
        "                                               shuffle=True,\n",
        "                                               seed=4)\n",
        "\n",
        "testgen = test_generator.flow_from_directory(test_path,\n",
        "                                             target_size=(48,48),\n",
        "                                             class_mode=None,\n",
        "                                             classes=class_subset,\n",
        "                                             batch_size=1,\n",
        "                                             shuffle=False,\n",
        "                                             seed=4)"
      ],
      "metadata": {
        "colab": {
          "base_uri": "https://localhost:8080/"
        },
        "id": "weT4vBdfqfeQ",
        "outputId": "e52641c8-8ad5-4fd3-ce9e-03a50c0fa6ec"
      },
      "execution_count": null,
      "outputs": [
        {
          "output_type": "stream",
          "name": "stdout",
          "text": [
            "['angry', 'happy', 'sad']\n",
            "Found 256 images belonging to 3 classes.\n",
            "Found 44 images belonging to 3 classes.\n",
            "Found 126 images belonging to 3 classes.\n"
          ]
        }
      ]
    },
    {
      "cell_type": "markdown",
      "source": [
        "# VGG16 + TRANSFER LEARNING"
      ],
      "metadata": {
        "id": "4gTCZSewApuK"
      }
    },
    {
      "cell_type": "code",
      "source": [
        "from keras.applications.vgg16 import VGG16\n",
        "model = Sequential()\n",
        "model1 = VGG16(input_shape=IMAGE_SIZE + [3], weights='imagenet', include_top=False)"
      ],
      "metadata": {
        "id": "lEt6UZVSqfiK"
      },
      "execution_count": null,
      "outputs": []
    },
    {
      "cell_type": "code",
      "source": [
        "for layer in model1.layers:\n",
        "  layer.trainable = False"
      ],
      "metadata": {
        "id": "1Hn6cC7kqfkb"
      },
      "execution_count": null,
      "outputs": []
    },
    {
      "cell_type": "code",
      "source": [
        "from tensorflow.keras import layers, models\n",
        "\n",
        "flatten_layer = layers.Flatten()\n",
        "batnorm = layers.BatchNormalization()\n",
        "dropout = layers.Dropout(0.20)\n",
        "prediction_layer = layers.Dense(3, activation='softmax')\n",
        "\n",
        "\n",
        "vgg16 = models.Sequential([\n",
        "    model1,\n",
        "    flatten_layer,\n",
        "    batnorm,\n",
        "    dropout,\n",
        "    prediction_layer\n",
        "])"
      ],
      "metadata": {
        "id": "AQZEL5vvsmTz"
      },
      "execution_count": null,
      "outputs": []
    },
    {
      "cell_type": "code",
      "source": [
        "vgg16.summary()"
      ],
      "metadata": {
        "colab": {
          "base_uri": "https://localhost:8080/"
        },
        "id": "2Y8Ca8_ysps4",
        "outputId": "79334b9a-40b3-4677-ff7b-b5082bf765cd"
      },
      "execution_count": null,
      "outputs": [
        {
          "output_type": "stream",
          "name": "stdout",
          "text": [
            "Model: \"sequential_13\"\n",
            "_________________________________________________________________\n",
            " Layer (type)                Output Shape              Param #   \n",
            "=================================================================\n",
            " vgg16 (Functional)          (None, 1, 1, 512)         14714688  \n",
            "                                                                 \n",
            " flatten_3 (Flatten)         (None, 512)               0         \n",
            "                                                                 \n",
            " batch_normalization_2 (Batc  (None, 512)              2048      \n",
            " hNormalization)                                                 \n",
            "                                                                 \n",
            " dropout_4 (Dropout)         (None, 512)               0         \n",
            "                                                                 \n",
            " dense_5 (Dense)             (None, 3)                 1539      \n",
            "                                                                 \n",
            "=================================================================\n",
            "Total params: 14,718,275\n",
            "Trainable params: 2,563\n",
            "Non-trainable params: 14,715,712\n",
            "_________________________________________________________________\n"
          ]
        }
      ]
    },
    {
      "cell_type": "code",
      "source": [
        "optimizer=Adam(learning_rate=0.001)\n",
        "vgg16.compile(optimizer=optimizer, \n",
        "                  loss='categorical_crossentropy',\n",
        "                  metrics=['accuracy'])\n",
        "\n",
        "\n",
        "from keras.callbacks import ModelCheckpoint, EarlyStopping\n",
        "optim_1 = Adam(learning_rate=0.001)\n",
        "#n_classes=3\n",
        "\n",
        "n_steps = traingen.samples // BATCH_SIZE\n",
        "n_val_steps = validgen.samples // BATCH_SIZE\n",
        "n_epochs = 50\n",
        "\n",
        "# ModelCheckpoint callback - save best weights\n",
        "tl_checkpoint_1 = ModelCheckpoint(filepath='/content/gdrive/MyDrive/NNDL/Project/masked-dataset/vgg16.h5',\n",
        "                                  save_best_only=True,\n",
        "                                  monitor='val_accuracy',\n",
        "                                  mode='max',\n",
        "                                  verbose=1)\n",
        "\n",
        "vgg_history = vgg16.fit(traingen,\n",
        "                            batch_size=BATCH_SIZE,\n",
        "                            epochs=n_epochs,\n",
        "                            validation_data=validgen,\n",
        "                            steps_per_epoch=n_steps,\n",
        "                            validation_steps=n_val_steps,\n",
        "                            callbacks=[tl_checkpoint_1], \n",
        "                            verbose=1)"
      ],
      "metadata": {
        "colab": {
          "base_uri": "https://localhost:8080/"
        },
        "id": "IAIfPnshs3ky",
        "outputId": "3f62d631-1383-40f6-dc4f-db5ae6a71913"
      },
      "execution_count": null,
      "outputs": [
        {
          "output_type": "stream",
          "name": "stdout",
          "text": [
            "Epoch 1/50\n",
            "8/8 [==============================] - ETA: 0s - loss: 1.3968 - accuracy: 0.3828\n",
            "Epoch 1: val_accuracy improved from -inf to 0.50000, saving model to /content/gdrive/MyDrive/NNDL/Project/masked-dataset/vgg16.h5\n",
            "8/8 [==============================] - 2s 175ms/step - loss: 1.3968 - accuracy: 0.3828 - val_loss: 3.3636 - val_accuracy: 0.5000\n",
            "Epoch 2/50\n",
            "8/8 [==============================] - ETA: 0s - loss: 1.1536 - accuracy: 0.4570\n",
            "Epoch 2: val_accuracy improved from 0.50000 to 0.59375, saving model to /content/gdrive/MyDrive/NNDL/Project/masked-dataset/vgg16.h5\n",
            "8/8 [==============================] - 1s 132ms/step - loss: 1.1536 - accuracy: 0.4570 - val_loss: 2.1401 - val_accuracy: 0.5938\n",
            "Epoch 3/50\n",
            "8/8 [==============================] - ETA: 0s - loss: 0.9884 - accuracy: 0.5703\n",
            "Epoch 3: val_accuracy did not improve from 0.59375\n",
            "8/8 [==============================] - 1s 93ms/step - loss: 0.9884 - accuracy: 0.5703 - val_loss: 1.9047 - val_accuracy: 0.5312\n",
            "Epoch 4/50\n",
            "8/8 [==============================] - ETA: 0s - loss: 0.8484 - accuracy: 0.6367\n",
            "Epoch 4: val_accuracy did not improve from 0.59375\n",
            "8/8 [==============================] - 1s 95ms/step - loss: 0.8484 - accuracy: 0.6367 - val_loss: 1.8911 - val_accuracy: 0.4688\n",
            "Epoch 5/50\n",
            "8/8 [==============================] - ETA: 0s - loss: 0.7823 - accuracy: 0.6641\n",
            "Epoch 5: val_accuracy did not improve from 0.59375\n",
            "8/8 [==============================] - 1s 93ms/step - loss: 0.7823 - accuracy: 0.6641 - val_loss: 1.6374 - val_accuracy: 0.5625\n",
            "Epoch 6/50\n",
            "8/8 [==============================] - ETA: 0s - loss: 0.7611 - accuracy: 0.6445\n",
            "Epoch 6: val_accuracy did not improve from 0.59375\n",
            "8/8 [==============================] - 1s 92ms/step - loss: 0.7611 - accuracy: 0.6445 - val_loss: 1.5954 - val_accuracy: 0.5000\n",
            "Epoch 7/50\n",
            "8/8 [==============================] - ETA: 0s - loss: 0.7009 - accuracy: 0.6875\n",
            "Epoch 7: val_accuracy did not improve from 0.59375\n",
            "8/8 [==============================] - 1s 91ms/step - loss: 0.7009 - accuracy: 0.6875 - val_loss: 1.2056 - val_accuracy: 0.5625\n",
            "Epoch 8/50\n",
            "8/8 [==============================] - ETA: 0s - loss: 0.6562 - accuracy: 0.7188\n",
            "Epoch 8: val_accuracy did not improve from 0.59375\n",
            "8/8 [==============================] - 1s 89ms/step - loss: 0.6562 - accuracy: 0.7188 - val_loss: 1.4649 - val_accuracy: 0.5312\n",
            "Epoch 9/50\n",
            "8/8 [==============================] - ETA: 0s - loss: 0.5908 - accuracy: 0.7383\n",
            "Epoch 9: val_accuracy did not improve from 0.59375\n",
            "8/8 [==============================] - 1s 96ms/step - loss: 0.5908 - accuracy: 0.7383 - val_loss: 1.5278 - val_accuracy: 0.5000\n",
            "Epoch 10/50\n",
            "8/8 [==============================] - ETA: 0s - loss: 0.5926 - accuracy: 0.7266\n",
            "Epoch 10: val_accuracy did not improve from 0.59375\n",
            "8/8 [==============================] - 1s 93ms/step - loss: 0.5926 - accuracy: 0.7266 - val_loss: 1.2285 - val_accuracy: 0.5625\n",
            "Epoch 11/50\n",
            "8/8 [==============================] - ETA: 0s - loss: 0.5646 - accuracy: 0.7422\n",
            "Epoch 11: val_accuracy did not improve from 0.59375\n",
            "8/8 [==============================] - 1s 89ms/step - loss: 0.5646 - accuracy: 0.7422 - val_loss: 1.4314 - val_accuracy: 0.5625\n",
            "Epoch 12/50\n",
            "8/8 [==============================] - ETA: 0s - loss: 0.5714 - accuracy: 0.7383\n",
            "Epoch 12: val_accuracy did not improve from 0.59375\n",
            "8/8 [==============================] - 1s 107ms/step - loss: 0.5714 - accuracy: 0.7383 - val_loss: 1.5566 - val_accuracy: 0.4688\n",
            "Epoch 13/50\n",
            "8/8 [==============================] - ETA: 0s - loss: 0.4961 - accuracy: 0.8008\n",
            "Epoch 13: val_accuracy did not improve from 0.59375\n",
            "8/8 [==============================] - 1s 102ms/step - loss: 0.4961 - accuracy: 0.8008 - val_loss: 1.5706 - val_accuracy: 0.5000\n",
            "Epoch 14/50\n",
            "8/8 [==============================] - ETA: 0s - loss: 0.4519 - accuracy: 0.8203\n",
            "Epoch 14: val_accuracy did not improve from 0.59375\n",
            "8/8 [==============================] - 1s 91ms/step - loss: 0.4519 - accuracy: 0.8203 - val_loss: 1.3288 - val_accuracy: 0.5938\n",
            "Epoch 15/50\n",
            "8/8 [==============================] - ETA: 0s - loss: 0.4130 - accuracy: 0.8477\n",
            "Epoch 15: val_accuracy did not improve from 0.59375\n",
            "8/8 [==============================] - 1s 92ms/step - loss: 0.4130 - accuracy: 0.8477 - val_loss: 1.4984 - val_accuracy: 0.5625\n",
            "Epoch 16/50\n",
            "8/8 [==============================] - ETA: 0s - loss: 0.3822 - accuracy: 0.8828\n",
            "Epoch 16: val_accuracy improved from 0.59375 to 0.65625, saving model to /content/gdrive/MyDrive/NNDL/Project/masked-dataset/vgg16.h5\n",
            "8/8 [==============================] - 2s 243ms/step - loss: 0.3822 - accuracy: 0.8828 - val_loss: 1.1354 - val_accuracy: 0.6562\n",
            "Epoch 17/50\n",
            "8/8 [==============================] - ETA: 0s - loss: 0.4178 - accuracy: 0.8594\n",
            "Epoch 17: val_accuracy did not improve from 0.65625\n",
            "8/8 [==============================] - 1s 91ms/step - loss: 0.4178 - accuracy: 0.8594 - val_loss: 1.2464 - val_accuracy: 0.6562\n",
            "Epoch 18/50\n",
            "8/8 [==============================] - ETA: 0s - loss: 0.4244 - accuracy: 0.8516\n",
            "Epoch 18: val_accuracy did not improve from 0.65625\n",
            "8/8 [==============================] - 1s 95ms/step - loss: 0.4244 - accuracy: 0.8516 - val_loss: 1.4010 - val_accuracy: 0.5938\n",
            "Epoch 19/50\n",
            "8/8 [==============================] - ETA: 0s - loss: 0.4060 - accuracy: 0.8516\n",
            "Epoch 19: val_accuracy did not improve from 0.65625\n",
            "8/8 [==============================] - 1s 96ms/step - loss: 0.4060 - accuracy: 0.8516 - val_loss: 1.6447 - val_accuracy: 0.5000\n",
            "Epoch 20/50\n",
            "8/8 [==============================] - ETA: 0s - loss: 0.3777 - accuracy: 0.8633\n",
            "Epoch 20: val_accuracy did not improve from 0.65625\n",
            "8/8 [==============================] - 1s 94ms/step - loss: 0.3777 - accuracy: 0.8633 - val_loss: 1.4909 - val_accuracy: 0.5312\n",
            "Epoch 21/50\n",
            "8/8 [==============================] - ETA: 0s - loss: 0.3526 - accuracy: 0.8828\n",
            "Epoch 21: val_accuracy did not improve from 0.65625\n",
            "8/8 [==============================] - 1s 94ms/step - loss: 0.3526 - accuracy: 0.8828 - val_loss: 1.5369 - val_accuracy: 0.5000\n",
            "Epoch 22/50\n",
            "8/8 [==============================] - ETA: 0s - loss: 0.3490 - accuracy: 0.8750\n",
            "Epoch 22: val_accuracy did not improve from 0.65625\n",
            "8/8 [==============================] - 1s 93ms/step - loss: 0.3490 - accuracy: 0.8750 - val_loss: 1.5921 - val_accuracy: 0.5312\n",
            "Epoch 23/50\n",
            "8/8 [==============================] - ETA: 0s - loss: 0.3500 - accuracy: 0.8828\n",
            "Epoch 23: val_accuracy did not improve from 0.65625\n",
            "8/8 [==============================] - 1s 97ms/step - loss: 0.3500 - accuracy: 0.8828 - val_loss: 1.3294 - val_accuracy: 0.6250\n",
            "Epoch 24/50\n",
            "8/8 [==============================] - ETA: 0s - loss: 0.3474 - accuracy: 0.8906\n",
            "Epoch 24: val_accuracy did not improve from 0.65625\n",
            "8/8 [==============================] - 1s 97ms/step - loss: 0.3474 - accuracy: 0.8906 - val_loss: 1.6713 - val_accuracy: 0.5938\n",
            "Epoch 25/50\n",
            "8/8 [==============================] - ETA: 0s - loss: 0.3139 - accuracy: 0.8945\n",
            "Epoch 25: val_accuracy did not improve from 0.65625\n",
            "8/8 [==============================] - 1s 100ms/step - loss: 0.3139 - accuracy: 0.8945 - val_loss: 1.2254 - val_accuracy: 0.6562\n",
            "Epoch 26/50\n",
            "8/8 [==============================] - ETA: 0s - loss: 0.3391 - accuracy: 0.8828\n",
            "Epoch 26: val_accuracy did not improve from 0.65625\n",
            "8/8 [==============================] - 1s 93ms/step - loss: 0.3391 - accuracy: 0.8828 - val_loss: 1.8719 - val_accuracy: 0.5312\n",
            "Epoch 27/50\n",
            "8/8 [==============================] - ETA: 0s - loss: 0.3321 - accuracy: 0.9023\n",
            "Epoch 27: val_accuracy did not improve from 0.65625\n",
            "8/8 [==============================] - 1s 93ms/step - loss: 0.3321 - accuracy: 0.9023 - val_loss: 2.0336 - val_accuracy: 0.4688\n",
            "Epoch 28/50\n",
            "8/8 [==============================] - ETA: 0s - loss: 0.2785 - accuracy: 0.9180\n",
            "Epoch 28: val_accuracy did not improve from 0.65625\n",
            "8/8 [==============================] - 1s 117ms/step - loss: 0.2785 - accuracy: 0.9180 - val_loss: 1.4948 - val_accuracy: 0.5938\n",
            "Epoch 29/50\n",
            "8/8 [==============================] - ETA: 0s - loss: 0.3097 - accuracy: 0.8945\n",
            "Epoch 29: val_accuracy did not improve from 0.65625\n",
            "8/8 [==============================] - 1s 96ms/step - loss: 0.3097 - accuracy: 0.8945 - val_loss: 1.5617 - val_accuracy: 0.5625\n",
            "Epoch 30/50\n",
            "8/8 [==============================] - ETA: 0s - loss: 0.2731 - accuracy: 0.9023\n",
            "Epoch 30: val_accuracy did not improve from 0.65625\n",
            "8/8 [==============================] - 1s 94ms/step - loss: 0.2731 - accuracy: 0.9023 - val_loss: 1.6811 - val_accuracy: 0.5312\n",
            "Epoch 31/50\n",
            "8/8 [==============================] - ETA: 0s - loss: 0.2481 - accuracy: 0.9297\n",
            "Epoch 31: val_accuracy did not improve from 0.65625\n",
            "8/8 [==============================] - 1s 93ms/step - loss: 0.2481 - accuracy: 0.9297 - val_loss: 1.6274 - val_accuracy: 0.5938\n",
            "Epoch 32/50\n",
            "8/8 [==============================] - ETA: 0s - loss: 0.2705 - accuracy: 0.9219\n",
            "Epoch 32: val_accuracy did not improve from 0.65625\n",
            "8/8 [==============================] - 1s 94ms/step - loss: 0.2705 - accuracy: 0.9219 - val_loss: 2.0273 - val_accuracy: 0.4688\n",
            "Epoch 33/50\n",
            "8/8 [==============================] - ETA: 0s - loss: 0.2456 - accuracy: 0.9297\n",
            "Epoch 33: val_accuracy did not improve from 0.65625\n",
            "8/8 [==============================] - 1s 95ms/step - loss: 0.2456 - accuracy: 0.9297 - val_loss: 1.5540 - val_accuracy: 0.6250\n",
            "Epoch 34/50\n",
            "8/8 [==============================] - ETA: 0s - loss: 0.2945 - accuracy: 0.9102\n",
            "Epoch 34: val_accuracy did not improve from 0.65625\n",
            "8/8 [==============================] - 1s 95ms/step - loss: 0.2945 - accuracy: 0.9102 - val_loss: 1.7334 - val_accuracy: 0.5625\n",
            "Epoch 35/50\n",
            "8/8 [==============================] - ETA: 0s - loss: 0.2744 - accuracy: 0.9414\n",
            "Epoch 35: val_accuracy did not improve from 0.65625\n",
            "8/8 [==============================] - 1s 96ms/step - loss: 0.2744 - accuracy: 0.9414 - val_loss: 2.0883 - val_accuracy: 0.5625\n",
            "Epoch 36/50\n",
            "8/8 [==============================] - ETA: 0s - loss: 0.2592 - accuracy: 0.9258\n",
            "Epoch 36: val_accuracy did not improve from 0.65625\n",
            "8/8 [==============================] - 1s 90ms/step - loss: 0.2592 - accuracy: 0.9258 - val_loss: 1.7589 - val_accuracy: 0.5312\n",
            "Epoch 37/50\n",
            "8/8 [==============================] - ETA: 0s - loss: 0.2044 - accuracy: 0.9609\n",
            "Epoch 37: val_accuracy did not improve from 0.65625\n",
            "8/8 [==============================] - 1s 96ms/step - loss: 0.2044 - accuracy: 0.9609 - val_loss: 2.1023 - val_accuracy: 0.5000\n",
            "Epoch 38/50\n",
            "8/8 [==============================] - ETA: 0s - loss: 0.2338 - accuracy: 0.9258\n",
            "Epoch 38: val_accuracy did not improve from 0.65625\n",
            "8/8 [==============================] - 1s 94ms/step - loss: 0.2338 - accuracy: 0.9258 - val_loss: 2.2212 - val_accuracy: 0.5000\n",
            "Epoch 39/50\n",
            "8/8 [==============================] - ETA: 0s - loss: 0.2374 - accuracy: 0.9453\n",
            "Epoch 39: val_accuracy did not improve from 0.65625\n",
            "8/8 [==============================] - 1s 94ms/step - loss: 0.2374 - accuracy: 0.9453 - val_loss: 2.1175 - val_accuracy: 0.5312\n",
            "Epoch 40/50\n",
            "8/8 [==============================] - ETA: 0s - loss: 0.2321 - accuracy: 0.9336\n",
            "Epoch 40: val_accuracy did not improve from 0.65625\n",
            "8/8 [==============================] - 1s 96ms/step - loss: 0.2321 - accuracy: 0.9336 - val_loss: 2.3455 - val_accuracy: 0.4375\n",
            "Epoch 41/50\n",
            "8/8 [==============================] - ETA: 0s - loss: 0.2082 - accuracy: 0.9609\n",
            "Epoch 41: val_accuracy did not improve from 0.65625\n",
            "8/8 [==============================] - 1s 94ms/step - loss: 0.2082 - accuracy: 0.9609 - val_loss: 2.2420 - val_accuracy: 0.5000\n",
            "Epoch 42/50\n",
            "8/8 [==============================] - ETA: 0s - loss: 0.2257 - accuracy: 0.9375\n",
            "Epoch 42: val_accuracy did not improve from 0.65625\n",
            "8/8 [==============================] - 1s 94ms/step - loss: 0.2257 - accuracy: 0.9375 - val_loss: 2.0913 - val_accuracy: 0.5312\n",
            "Epoch 43/50\n",
            "8/8 [==============================] - ETA: 0s - loss: 0.2152 - accuracy: 0.9336\n",
            "Epoch 43: val_accuracy did not improve from 0.65625\n",
            "8/8 [==============================] - 1s 90ms/step - loss: 0.2152 - accuracy: 0.9336 - val_loss: 2.0973 - val_accuracy: 0.5000\n",
            "Epoch 44/50\n",
            "8/8 [==============================] - ETA: 0s - loss: 0.2269 - accuracy: 0.9219\n",
            "Epoch 44: val_accuracy did not improve from 0.65625\n",
            "8/8 [==============================] - 1s 96ms/step - loss: 0.2269 - accuracy: 0.9219 - val_loss: 2.2473 - val_accuracy: 0.5312\n",
            "Epoch 45/50\n",
            "8/8 [==============================] - ETA: 0s - loss: 0.1983 - accuracy: 0.9453\n",
            "Epoch 45: val_accuracy did not improve from 0.65625\n",
            "8/8 [==============================] - 1s 92ms/step - loss: 0.1983 - accuracy: 0.9453 - val_loss: 1.9471 - val_accuracy: 0.5000\n",
            "Epoch 46/50\n",
            "8/8 [==============================] - ETA: 0s - loss: 0.1884 - accuracy: 0.9609\n",
            "Epoch 46: val_accuracy did not improve from 0.65625\n",
            "8/8 [==============================] - 1s 94ms/step - loss: 0.1884 - accuracy: 0.9609 - val_loss: 2.5381 - val_accuracy: 0.4688\n",
            "Epoch 47/50\n",
            "8/8 [==============================] - ETA: 0s - loss: 0.1932 - accuracy: 0.9414\n",
            "Epoch 47: val_accuracy did not improve from 0.65625\n",
            "8/8 [==============================] - 1s 93ms/step - loss: 0.1932 - accuracy: 0.9414 - val_loss: 1.8608 - val_accuracy: 0.5312\n",
            "Epoch 48/50\n",
            "8/8 [==============================] - ETA: 0s - loss: 0.2075 - accuracy: 0.9375\n",
            "Epoch 48: val_accuracy did not improve from 0.65625\n",
            "8/8 [==============================] - 1s 96ms/step - loss: 0.2075 - accuracy: 0.9375 - val_loss: 2.5481 - val_accuracy: 0.4688\n",
            "Epoch 49/50\n",
            "8/8 [==============================] - ETA: 0s - loss: 0.1861 - accuracy: 0.9648\n",
            "Epoch 49: val_accuracy did not improve from 0.65625\n",
            "8/8 [==============================] - 1s 93ms/step - loss: 0.1861 - accuracy: 0.9648 - val_loss: 2.6740 - val_accuracy: 0.5312\n",
            "Epoch 50/50\n",
            "8/8 [==============================] - ETA: 0s - loss: 0.1805 - accuracy: 0.9609\n",
            "Epoch 50: val_accuracy did not improve from 0.65625\n",
            "8/8 [==============================] - 1s 95ms/step - loss: 0.1805 - accuracy: 0.9609 - val_loss: 2.4308 - val_accuracy: 0.5000\n"
          ]
        }
      ]
    },
    {
      "cell_type": "code",
      "source": [
        "plt.plot(vgg_history.history['accuracy'])\n",
        "plt.plot(vgg_history.history['val_accuracy'])\n",
        "plt.plot(vgg_history.history['loss'])\n",
        "plt.plot(vgg_history.history['val_loss'])\n",
        "plt.legend(['train_accuracy','val_accuracy','train_loss','val_loss'])"
      ],
      "metadata": {
        "colab": {
          "base_uri": "https://localhost:8080/",
          "height": 286
        },
        "id": "2khsIiaxJGJC",
        "outputId": "ff0c7874-c11e-49ba-8082-0e55117dc6e8"
      },
      "execution_count": null,
      "outputs": [
        {
          "output_type": "execute_result",
          "data": {
            "text/plain": [
              "<matplotlib.legend.Legend at 0x7fb4c7807950>"
            ]
          },
          "metadata": {},
          "execution_count": 67
        },
        {
          "output_type": "display_data",
          "data": {
            "image/png": "[encoded data removed]",
            "text/plain": [
              "<Figure size 432x288 with 1 Axes>"
            ]
          },
          "metadata": {
            "needs_background": "light"
          }
        }
      ]
    },
    {
      "cell_type": "code",
      "source": [
        "import numpy as np\n",
        "# Generate predictions\n",
        "vgg16.load_weights('/content/gdrive/MyDrive/NNDL/Project/masked-dataset/vgg16.h5') # initialize the best trained weights\n",
        "\n",
        "true_classes = testgen.classes\n",
        "class_indices = traingen.class_indices\n",
        "class_indices = dict((v,k) for k,v in class_indices.items())\n",
        "\n",
        "vgg_preds = vgg16.predict(testgen)\n",
        "vgg_pred_classes = np.argmax(vgg_preds, axis=1)"
      ],
      "metadata": {
        "id": "-44Br7DftKBt"
      },
      "execution_count": null,
      "outputs": []
    },
    {
      "cell_type": "code",
      "source": [
        "from sklearn.metrics import accuracy_score\n",
        "\n",
        "vgg_acc = accuracy_score(true_classes, vgg_pred_classes)\n",
        "print(\"VGG16 Model Accuracy using TL: {:.2f}%\".format(vgg_acc * 100))"
      ],
      "metadata": {
        "colab": {
          "base_uri": "https://localhost:8080/"
        },
        "id": "127fmf0T6IFe",
        "outputId": "68d526f8-f829-4f5b-ab2d-70d2060f0420"
      },
      "execution_count": null,
      "outputs": [
        {
          "output_type": "stream",
          "name": "stdout",
          "text": [
            "VGG16 Model Accuracy using TL: 49.21%\n"
          ]
        }
      ]
    },
    {
      "cell_type": "code",
      "source": [
        "model = tf.keras.models.load_model('/content/gdrive/MyDrive/NNDL/Project/masked-dataset/vgg16.h5')"
      ],
      "metadata": {
        "id": "gJK6gmsriL4_"
      },
      "execution_count": null,
      "outputs": []
    },
    {
      "cell_type": "code",
      "source": [
        "true_classes = testgen.classes\n",
        "class_indices = traingen.class_indices\n",
        "class_indices = dict((v,k) for k,v in class_indices.items())\n",
        "\n",
        "vgg_preds = model.predict(testgen)\n",
        "vgg_pred_classes = np.argmax(vgg_preds, axis=1)"
      ],
      "metadata": {
        "id": "mil_4znWiQ-l"
      },
      "execution_count": null,
      "outputs": []
    },
    {
      "cell_type": "code",
      "source": [
        "print(confusion_matrix(true_classes, vgg_pred_classes))"
      ],
      "metadata": {
        "colab": {
          "base_uri": "https://localhost:8080/"
        },
        "id": "a_i84Xk0iV-_",
        "outputId": "cd58b1ce-4f3b-4550-ac2d-b1ad8d222346"
      },
      "execution_count": null,
      "outputs": [
        {
          "output_type": "stream",
          "name": "stdout",
          "text": [
            "[[14 18  3]\n",
            " [ 6 44  7]\n",
            " [17 13  4]]\n"
          ]
        }
      ]
    },
    {
      "cell_type": "code",
      "source": [
        "print(classification_report(true_classes, vgg_pred_classes))"
      ],
      "metadata": {
        "colab": {
          "base_uri": "https://localhost:8080/"
        },
        "id": "s4-0zTMDic6Y",
        "outputId": "adb09fa9-1c9e-418c-8a23-a5b98d1e51d3"
      },
      "execution_count": null,
      "outputs": [
        {
          "output_type": "stream",
          "name": "stdout",
          "text": [
            "              precision    recall  f1-score   support\n",
            "\n",
            "           0       0.38      0.40      0.39        35\n",
            "           1       0.59      0.77      0.67        57\n",
            "           2       0.29      0.12      0.17        34\n",
            "\n",
            "    accuracy                           0.49       126\n",
            "   macro avg       0.42      0.43      0.41       126\n",
            "weighted avg       0.45      0.49      0.45       126\n",
            "\n"
          ]
        }
      ]
    },
    {
      "cell_type": "code",
      "source": [
        "from tensorflow.keras.preprocessing import image\n",
        "import numpy as np\n",
        "import matplotlib.pyplot as plt\n",
        "model = tf.keras.models.load_model('/content/gdrive/MyDrive/NNDL/Project/masked-dataset/vgg16.h5')"
      ],
      "metadata": {
        "id": "g1209L6Jdw5x"
      },
      "execution_count": null,
      "outputs": []
    },
    {
      "cell_type": "code",
      "source": [
        "img = image.load_img('/content/gdrive/MyDrive/NNDL/Project/sample/happy_resized.jpg',target_size=(48,48))"
      ],
      "metadata": {
        "id": "_J2KAsbMdw3L"
      },
      "execution_count": null,
      "outputs": []
    },
    {
      "cell_type": "code",
      "source": [
        "plt.imshow(img)\n",
        "plt.show()"
      ],
      "metadata": {
        "colab": {
          "base_uri": "https://localhost:8080/",
          "height": 267
        },
        "id": "GjlT8UDQdw0m",
        "outputId": "91e8051f-59ea-4727-fe83-d7592c8b6339"
      },
      "execution_count": null,
      "outputs": [
        {
          "output_type": "display_data",
          "data": {
            "image/png": "[encoded data removed]",
            "text/plain": [
              "<Figure size 432x288 with 1 Axes>"
            ]
          },
          "metadata": {
            "needs_background": "light"
          }
        }
      ]
    },
    {
      "cell_type": "code",
      "source": [
        "img_array = image.img_to_array(img)\n",
        "img_batch = np.expand_dims(img_array, axis=0)"
      ],
      "metadata": {
        "id": "-yxu28Okdwyc"
      },
      "execution_count": null,
      "outputs": []
    },
    {
      "cell_type": "code",
      "source": [
        "from keras.applications.vgg16 import preprocess_input\n",
        "img_preprocessed = preprocess_input(img_batch)"
      ],
      "metadata": {
        "id": "aPfNbOm_dwv-"
      },
      "execution_count": null,
      "outputs": []
    },
    {
      "cell_type": "code",
      "source": [
        "prediction = model.predict(img_preprocessed)"
      ],
      "metadata": {
        "id": "GCQDS_sedwtL"
      },
      "execution_count": null,
      "outputs": []
    },
    {
      "cell_type": "code",
      "source": [
        "prediction"
      ],
      "metadata": {
        "colab": {
          "base_uri": "https://localhost:8080/"
        },
        "id": "92QQoqaRdwqn",
        "outputId": "7f287fd1-6173-4f2c-9ebb-fb31a0a8bfb1"
      },
      "execution_count": null,
      "outputs": [
        {
          "output_type": "execute_result",
          "data": {
            "text/plain": [
              "array([[9.9913424e-01, 8.6578092e-04, 1.4101881e-15]], dtype=float32)"
            ]
          },
          "metadata": {},
          "execution_count": 17
        }
      ]
    },
    {
      "cell_type": "code",
      "source": [
        "from tensorflow.keras.preprocessing import image\n",
        "import numpy as np\n",
        "import matplotlib.pyplot as plt\n",
        "model = tf.keras.models.load_model('/content/gdrive/MyDrive/NNDL/Project/masked-dataset/vgg16.h5')"
      ],
      "metadata": {
        "id": "TLbcOjy-gt3M"
      },
      "execution_count": null,
      "outputs": []
    },
    {
      "cell_type": "code",
      "source": [
        "img = image.load_img('/content/gdrive/MyDrive/NNDL/Project/sample/sad_resized.jpg',target_size=(48,48))"
      ],
      "metadata": {
        "id": "72HU0o-jg5R6"
      },
      "execution_count": null,
      "outputs": []
    },
    {
      "cell_type": "code",
      "source": [
        "plt.imshow(img)\n",
        "plt.show()"
      ],
      "metadata": {
        "colab": {
          "base_uri": "https://localhost:8080/",
          "height": 267
        },
        "id": "qcDs-ibog5gV",
        "outputId": "66f7db4d-6d35-49c3-be40-8572c8868248"
      },
      "execution_count": null,
      "outputs": [
        {
          "output_type": "display_data",
          "data": {
            "image/png": "[encoded data removed]",
            "text/plain": [
              "<Figure size 432x288 with 1 Axes>"
            ]
          },
          "metadata": {
            "needs_background": "light"
          }
        }
      ]
    },
    {
      "cell_type": "code",
      "source": [
        "img_array = image.img_to_array(img)\n",
        "img_batch = np.expand_dims(img_array, axis=0)"
      ],
      "metadata": {
        "id": "uWfD_kt2g5nL"
      },
      "execution_count": null,
      "outputs": []
    },
    {
      "cell_type": "code",
      "source": [
        "from keras.applications.vgg16 import preprocess_input\n",
        "img_preprocessed = preprocess_input(img_batch)"
      ],
      "metadata": {
        "id": "NzLug01Pg5wC"
      },
      "execution_count": null,
      "outputs": []
    },
    {
      "cell_type": "code",
      "source": [
        "prediction = model.predict(img_preprocessed)"
      ],
      "metadata": {
        "id": "020w0gHghqvQ"
      },
      "execution_count": null,
      "outputs": []
    },
    {
      "cell_type": "code",
      "source": [
        "prediction"
      ],
      "metadata": {
        "colab": {
          "base_uri": "https://localhost:8080/"
        },
        "id": "PR-PdyfOiM7T",
        "outputId": "7af4aaef-2942-4490-e523-2a5f658f14a3"
      },
      "execution_count": null,
      "outputs": [
        {
          "output_type": "execute_result",
          "data": {
            "text/plain": [
              "array([[5.8200592e-01, 4.1799408e-01, 7.7509164e-09]], dtype=float32)"
            ]
          },
          "metadata": {},
          "execution_count": 9
        }
      ]
    },
    {
      "cell_type": "markdown",
      "source": [
        "# **VGG16**"
      ],
      "metadata": {
        "id": "SqVJDVDfAYNL"
      }
    },
    {
      "cell_type": "code",
      "source": [
        "from keras.layers.convolutional import Convolution2D, MaxPooling2D, ZeroPadding2D\n",
        "from keras.layers import Dropout\n",
        "model = Sequential()\n",
        "model.add(ZeroPadding2D((1,1),input_shape=(48,48,3)))\n",
        "model.add(Convolution2D(64, 3, 3, activation='relu'))\n",
        "model.add(ZeroPadding2D((1,1)))\n",
        "model.add(Convolution2D(64, 3, 3, activation='relu'))\n",
        "model.add(MaxPooling2D((2,2), strides=(2,2)))\n",
        "\n",
        "model.add(ZeroPadding2D((1,1)))\n",
        "model.add(Convolution2D(128, 3, 3, activation='relu'))\n",
        "model.add(ZeroPadding2D((1,1)))\n",
        "model.add(Convolution2D(128, 3, 3, activation='relu'))\n",
        "model.add(MaxPooling2D((2,2), strides=(2,2),data_format=\"channels_last\",padding='same'))\n",
        "\n",
        "model.add(ZeroPadding2D((1,1)))\n",
        "model.add(Convolution2D(256, 3, 3, activation='relu'))\n",
        "model.add(ZeroPadding2D((1,1)))\n",
        "model.add(Convolution2D(256, 3, 3, activation='relu'))\n",
        "model.add(ZeroPadding2D((1,1)))\n",
        "model.add(Convolution2D(256, 3, 3, activation='relu'))\n",
        "model.add(MaxPooling2D((2,2), strides=(2,2),data_format=\"channels_last\",padding='same'))\n",
        "\n",
        "model.add(ZeroPadding2D((1,1)))\n",
        "model.add(Convolution2D(512, 3, 3, activation='relu'))\n",
        "model.add(ZeroPadding2D((1,1)))\n",
        "model.add(Convolution2D(512, 3, 3, activation='relu'))\n",
        "model.add(ZeroPadding2D((1,1)))\n",
        "model.add(Convolution2D(512, 3, 3, activation='relu'))\n",
        "model.add(MaxPooling2D((2,2), strides=(2,2),data_format=\"channels_last\",padding='same'))\n",
        "\n",
        "\n",
        "model.add(ZeroPadding2D((1,1)))\n",
        "model.add(Convolution2D(512, 3, 3, activation='relu'))\n",
        "model.add(ZeroPadding2D((1,1)))\n",
        "model.add(Convolution2D(512, 3, 3, activation='relu'))\n",
        "model.add(ZeroPadding2D((1,1)))\n",
        "model.add(Convolution2D(512, 3, 3, activation='relu'))\n",
        "model.add(MaxPooling2D((2,2), strides=(2,2),data_format=\"channels_last\",padding='same'))\n",
        "\n",
        "model.add(Flatten())\n",
        "model.add(Dense(4096, activation='relu'))\n",
        "model.add(Dropout(0.5))\n",
        "model.add(Dense(4096, activation='relu'))\n",
        "model.add(Dropout(0.5))\n",
        "model.add(Dense(3, activation='softmax'))"
      ],
      "metadata": {
        "id": "rWBJGqS_-Xxz"
      },
      "execution_count": null,
      "outputs": []
    },
    {
      "cell_type": "code",
      "source": [
        "model.summary()"
      ],
      "metadata": {
        "colab": {
          "base_uri": "https://localhost:8080/"
        },
        "id": "Cv1MCzHJAXbj",
        "outputId": "7db3c229-f483-430e-b1e6-fe972393c8e5"
      },
      "execution_count": null,
      "outputs": [
        {
          "output_type": "stream",
          "name": "stdout",
          "text": [
            "Model: \"sequential\"\n",
            "_________________________________________________________________\n",
            " Layer (type)                Output Shape              Param #   \n",
            "=================================================================\n",
            " zero_padding2d (ZeroPadding  (None, 50, 50, 3)        0         \n",
            " 2D)                                                             \n",
            "                                                                 \n",
            " conv2d (Conv2D)             (None, 16, 16, 64)        1792      \n",
            "                                                                 \n",
            " zero_padding2d_1 (ZeroPaddi  (None, 18, 18, 64)       0         \n",
            " ng2D)                                                           \n",
            "                                                                 \n",
            " conv2d_1 (Conv2D)           (None, 6, 6, 64)          36928     \n",
            "                                                                 \n",
            " max_pooling2d (MaxPooling2D  (None, 3, 3, 64)         0         \n",
            " )                                                               \n",
            "                                                                 \n",
            " zero_padding2d_2 (ZeroPaddi  (None, 5, 5, 64)         0         \n",
            " ng2D)                                                           \n",
            "                                                                 \n",
            " conv2d_2 (Conv2D)           (None, 1, 1, 128)         73856     \n",
            "                                                                 \n",
            " zero_padding2d_3 (ZeroPaddi  (None, 3, 3, 128)        0         \n",
            " ng2D)                                                           \n",
            "                                                                 \n",
            " conv2d_3 (Conv2D)           (None, 1, 1, 128)         147584    \n",
            "                                                                 \n",
            " max_pooling2d_1 (MaxPooling  (None, 1, 1, 128)        0         \n",
            " 2D)                                                             \n",
            "                                                                 \n",
            " zero_padding2d_4 (ZeroPaddi  (None, 3, 3, 128)        0         \n",
            " ng2D)                                                           \n",
            "                                                                 \n",
            " conv2d_4 (Conv2D)           (None, 1, 1, 256)         295168    \n",
            "                                                                 \n",
            " zero_padding2d_5 (ZeroPaddi  (None, 3, 3, 256)        0         \n",
            " ng2D)                                                           \n",
            "                                                                 \n",
            " conv2d_5 (Conv2D)           (None, 1, 1, 256)         590080    \n",
            "                                                                 \n",
            " zero_padding2d_6 (ZeroPaddi  (None, 3, 3, 256)        0         \n",
            " ng2D)                                                           \n",
            "                                                                 \n",
            " conv2d_6 (Conv2D)           (None, 1, 1, 256)         590080    \n",
            "                                                                 \n",
            " max_pooling2d_2 (MaxPooling  (None, 1, 1, 256)        0         \n",
            " 2D)                                                             \n",
            "                                                                 \n",
            " zero_padding2d_7 (ZeroPaddi  (None, 3, 3, 256)        0         \n",
            " ng2D)                                                           \n",
            "                                                                 \n",
            " conv2d_7 (Conv2D)           (None, 1, 1, 512)         1180160   \n",
            "                                                                 \n",
            " zero_padding2d_8 (ZeroPaddi  (None, 3, 3, 512)        0         \n",
            " ng2D)                                                           \n",
            "                                                                 \n",
            " conv2d_8 (Conv2D)           (None, 1, 1, 512)         2359808   \n",
            "                                                                 \n",
            " zero_padding2d_9 (ZeroPaddi  (None, 3, 3, 512)        0         \n",
            " ng2D)                                                           \n",
            "                                                                 \n",
            " conv2d_9 (Conv2D)           (None, 1, 1, 512)         2359808   \n",
            "                                                                 \n",
            " max_pooling2d_3 (MaxPooling  (None, 1, 1, 512)        0         \n",
            " 2D)                                                             \n",
            "                                                                 \n",
            " zero_padding2d_10 (ZeroPadd  (None, 3, 3, 512)        0         \n",
            " ing2D)                                                          \n",
            "                                                                 \n",
            " conv2d_10 (Conv2D)          (None, 1, 1, 512)         2359808   \n",
            "                                                                 \n",
            " zero_padding2d_11 (ZeroPadd  (None, 3, 3, 512)        0         \n",
            " ing2D)                                                          \n",
            "                                                                 \n",
            " conv2d_11 (Conv2D)          (None, 1, 1, 512)         2359808   \n",
            "                                                                 \n",
            " zero_padding2d_12 (ZeroPadd  (None, 3, 3, 512)        0         \n",
            " ing2D)                                                          \n",
            "                                                                 \n",
            " conv2d_12 (Conv2D)          (None, 1, 1, 512)         2359808   \n",
            "                                                                 \n",
            " max_pooling2d_4 (MaxPooling  (None, 1, 1, 512)        0         \n",
            " 2D)                                                             \n",
            "                                                                 \n",
            " flatten (Flatten)           (None, 512)               0         \n",
            "                                                                 \n",
            " dense (Dense)               (None, 4096)              2101248   \n",
            "                                                                 \n",
            " dropout (Dropout)           (None, 4096)              0         \n",
            "                                                                 \n",
            " dense_1 (Dense)             (None, 4096)              16781312  \n",
            "                                                                 \n",
            " dropout_1 (Dropout)         (None, 4096)              0         \n",
            "                                                                 \n",
            " dense_2 (Dense)             (None, 3)                 12291     \n",
            "                                                                 \n",
            "=================================================================\n",
            "Total params: 33,609,539\n",
            "Trainable params: 33,609,539\n",
            "Non-trainable params: 0\n",
            "_________________________________________________________________\n"
          ]
        }
      ]
    },
    {
      "cell_type": "code",
      "source": [
        "optimizer=Adam(learning_rate=0.001)\n",
        "model.compile(optimizer=optimizer, \n",
        "                  loss='categorical_crossentropy',\n",
        "                  metrics=['accuracy'])\n",
        "\n",
        "\n",
        "from keras.callbacks import ModelCheckpoint, EarlyStopping\n",
        "optim_1 = Adam(learning_rate=0.001)\n",
        "#n_classes=3\n",
        "\n",
        "n_steps = traingen.samples // BATCH_SIZE\n",
        "n_val_steps = validgen.samples // BATCH_SIZE\n",
        "n_epochs = 50\n",
        "\n",
        "# ModelCheckpoint callback - save best weights\n",
        "tl_checkpoint_1 = ModelCheckpoint(filepath='/content/gdrive/MyDrive/NNDL/Project/masked-dataset/vgg16_1.h5',\n",
        "                                  save_best_only=True,\n",
        "                                  monitor='val_accuracy',\n",
        "                                  mode='max',\n",
        "                                  verbose=1)\n",
        "vgg_history = model.fit(traingen,\n",
        "                            batch_size=BATCH_SIZE,\n",
        "                            epochs=n_epochs,\n",
        "                            validation_data=validgen,\n",
        "                            steps_per_epoch=n_steps,\n",
        "                            validation_steps=n_val_steps,\n",
        "                            callbacks=[tl_checkpoint_1], \n",
        "                            verbose=1)"
      ],
      "metadata": {
        "colab": {
          "base_uri": "https://localhost:8080/"
        },
        "id": "ORLrNoT8AXdw",
        "outputId": "04d19b03-cb83-45d9-92be-17b1ca8ebd50"
      },
      "execution_count": null,
      "outputs": [
        {
          "output_type": "stream",
          "name": "stdout",
          "text": [
            "Epoch 1/50\n",
            "8/8 [==============================] - ETA: 0s - loss: 1.0497 - accuracy: 0.4336\n",
            "Epoch 1: val_accuracy improved from -inf to 0.53125, saving model to /content/gdrive/MyDrive/NNDL/Project/masked-dataset/vgg16_1.h5\n",
            "8/8 [==============================] - 42s 5s/step - loss: 1.0497 - accuracy: 0.4336 - val_loss: 1.0578 - val_accuracy: 0.5312\n",
            "Epoch 2/50\n",
            "8/8 [==============================] - ETA: 0s - loss: 1.0435 - accuracy: 0.5000\n",
            "Epoch 2: val_accuracy improved from 0.53125 to 0.56250, saving model to /content/gdrive/MyDrive/NNDL/Project/masked-dataset/vgg16_1.h5\n",
            "8/8 [==============================] - 3s 312ms/step - loss: 1.0435 - accuracy: 0.5000 - val_loss: 1.0175 - val_accuracy: 0.5625\n",
            "Epoch 3/50\n",
            "8/8 [==============================] - ETA: 0s - loss: 1.0155 - accuracy: 0.5000\n",
            "Epoch 3: val_accuracy did not improve from 0.56250\n",
            "8/8 [==============================] - 1s 112ms/step - loss: 1.0155 - accuracy: 0.5000 - val_loss: 0.9902 - val_accuracy: 0.5312\n",
            "Epoch 4/50\n",
            "8/8 [==============================] - ETA: 0s - loss: 1.0160 - accuracy: 0.5000\n",
            "Epoch 4: val_accuracy did not improve from 0.56250\n",
            "8/8 [==============================] - 1s 115ms/step - loss: 1.0160 - accuracy: 0.5000 - val_loss: 0.9538 - val_accuracy: 0.5625\n",
            "Epoch 5/50\n",
            "8/8 [==============================] - ETA: 0s - loss: 1.0105 - accuracy: 0.5000\n",
            "Epoch 5: val_accuracy did not improve from 0.56250\n",
            "8/8 [==============================] - 1s 110ms/step - loss: 1.0105 - accuracy: 0.5000 - val_loss: 1.0623 - val_accuracy: 0.4688\n",
            "Epoch 6/50\n",
            "8/8 [==============================] - ETA: 0s - loss: 1.0175 - accuracy: 0.5000\n",
            "Epoch 6: val_accuracy did not improve from 0.56250\n",
            "8/8 [==============================] - 1s 110ms/step - loss: 1.0175 - accuracy: 0.5000 - val_loss: 1.0384 - val_accuracy: 0.4688\n",
            "Epoch 7/50\n",
            "8/8 [==============================] - ETA: 0s - loss: 1.0155 - accuracy: 0.5000\n",
            "Epoch 7: val_accuracy did not improve from 0.56250\n",
            "8/8 [==============================] - 1s 106ms/step - loss: 1.0155 - accuracy: 0.5000 - val_loss: 1.0595 - val_accuracy: 0.4688\n",
            "Epoch 8/50\n",
            "8/8 [==============================] - ETA: 0s - loss: 1.0145 - accuracy: 0.5000\n",
            "Epoch 8: val_accuracy improved from 0.56250 to 0.62500, saving model to /content/gdrive/MyDrive/NNDL/Project/masked-dataset/vgg16_1.h5\n",
            "8/8 [==============================] - 2s 334ms/step - loss: 1.0145 - accuracy: 0.5000 - val_loss: 0.9733 - val_accuracy: 0.6250\n",
            "Epoch 9/50\n",
            "8/8 [==============================] - ETA: 0s - loss: 1.0133 - accuracy: 0.5000\n",
            "Epoch 9: val_accuracy did not improve from 0.62500\n",
            "8/8 [==============================] - 1s 109ms/step - loss: 1.0133 - accuracy: 0.5000 - val_loss: 0.9090 - val_accuracy: 0.5625\n",
            "Epoch 10/50\n",
            "8/8 [==============================] - ETA: 0s - loss: 1.0129 - accuracy: 0.5000\n",
            "Epoch 10: val_accuracy did not improve from 0.62500\n",
            "8/8 [==============================] - 1s 108ms/step - loss: 1.0129 - accuracy: 0.5000 - val_loss: 0.9965 - val_accuracy: 0.4688\n",
            "Epoch 11/50\n",
            "8/8 [==============================] - ETA: 0s - loss: 1.0126 - accuracy: 0.5000\n",
            "Epoch 11: val_accuracy did not improve from 0.62500\n",
            "8/8 [==============================] - 1s 112ms/step - loss: 1.0126 - accuracy: 0.5000 - val_loss: 1.0278 - val_accuracy: 0.5000\n",
            "Epoch 12/50\n",
            "8/8 [==============================] - ETA: 0s - loss: 1.0138 - accuracy: 0.5000\n",
            "Epoch 12: val_accuracy did not improve from 0.62500\n",
            "8/8 [==============================] - 1s 111ms/step - loss: 1.0138 - accuracy: 0.5000 - val_loss: 1.1059 - val_accuracy: 0.3438\n",
            "Epoch 13/50\n",
            "8/8 [==============================] - ETA: 0s - loss: 1.0226 - accuracy: 0.5000\n",
            "Epoch 13: val_accuracy did not improve from 0.62500\n",
            "8/8 [==============================] - 1s 113ms/step - loss: 1.0226 - accuracy: 0.5000 - val_loss: 0.9977 - val_accuracy: 0.5312\n",
            "Epoch 14/50\n",
            "8/8 [==============================] - ETA: 0s - loss: 1.0254 - accuracy: 0.5000\n",
            "Epoch 14: val_accuracy did not improve from 0.62500\n",
            "8/8 [==============================] - 1s 111ms/step - loss: 1.0254 - accuracy: 0.5000 - val_loss: 0.9898 - val_accuracy: 0.5312\n",
            "Epoch 15/50\n",
            "8/8 [==============================] - ETA: 0s - loss: 1.0171 - accuracy: 0.5000\n",
            "Epoch 15: val_accuracy did not improve from 0.62500\n",
            "8/8 [==============================] - 1s 104ms/step - loss: 1.0171 - accuracy: 0.5000 - val_loss: 0.9833 - val_accuracy: 0.5625\n",
            "Epoch 16/50\n",
            "8/8 [==============================] - ETA: 0s - loss: 1.0183 - accuracy: 0.5000\n",
            "Epoch 16: val_accuracy did not improve from 0.62500\n",
            "8/8 [==============================] - 1s 108ms/step - loss: 1.0183 - accuracy: 0.5000 - val_loss: 0.9610 - val_accuracy: 0.5000\n",
            "Epoch 17/50\n",
            "8/8 [==============================] - ETA: 0s - loss: 1.0174 - accuracy: 0.5000\n",
            "Epoch 17: val_accuracy did not improve from 0.62500\n",
            "8/8 [==============================] - 1s 110ms/step - loss: 1.0174 - accuracy: 0.5000 - val_loss: 1.0062 - val_accuracy: 0.5000\n",
            "Epoch 18/50\n",
            "8/8 [==============================] - ETA: 0s - loss: 1.0216 - accuracy: 0.5000\n",
            "Epoch 18: val_accuracy did not improve from 0.62500\n",
            "8/8 [==============================] - 2s 196ms/step - loss: 1.0216 - accuracy: 0.5000 - val_loss: 1.0049 - val_accuracy: 0.5000\n",
            "Epoch 19/50\n",
            "8/8 [==============================] - ETA: 0s - loss: 1.0203 - accuracy: 0.5000\n",
            "Epoch 19: val_accuracy did not improve from 0.62500\n",
            "8/8 [==============================] - 1s 178ms/step - loss: 1.0203 - accuracy: 0.5000 - val_loss: 1.0252 - val_accuracy: 0.5000\n",
            "Epoch 20/50\n",
            "8/8 [==============================] - ETA: 0s - loss: 1.0128 - accuracy: 0.5000\n",
            "Epoch 20: val_accuracy did not improve from 0.62500\n",
            "8/8 [==============================] - 1s 105ms/step - loss: 1.0128 - accuracy: 0.5000 - val_loss: 0.9250 - val_accuracy: 0.5625\n",
            "Epoch 21/50\n",
            "8/8 [==============================] - ETA: 0s - loss: 1.0159 - accuracy: 0.5000\n",
            "Epoch 21: val_accuracy did not improve from 0.62500\n",
            "8/8 [==============================] - 1s 114ms/step - loss: 1.0159 - accuracy: 0.5000 - val_loss: 0.9823 - val_accuracy: 0.5000\n",
            "Epoch 22/50\n",
            "8/8 [==============================] - ETA: 0s - loss: 1.0126 - accuracy: 0.5000\n",
            "Epoch 22: val_accuracy did not improve from 0.62500\n",
            "8/8 [==============================] - 1s 113ms/step - loss: 1.0126 - accuracy: 0.5000 - val_loss: 0.9559 - val_accuracy: 0.5000\n",
            "Epoch 23/50\n",
            "8/8 [==============================] - ETA: 0s - loss: 1.0245 - accuracy: 0.5000\n",
            "Epoch 23: val_accuracy did not improve from 0.62500\n",
            "8/8 [==============================] - 1s 108ms/step - loss: 1.0245 - accuracy: 0.5000 - val_loss: 1.1076 - val_accuracy: 0.3750\n",
            "Epoch 24/50\n",
            "8/8 [==============================] - ETA: 0s - loss: 1.0138 - accuracy: 0.5000\n",
            "Epoch 24: val_accuracy did not improve from 0.62500\n",
            "8/8 [==============================] - 1s 113ms/step - loss: 1.0138 - accuracy: 0.5000 - val_loss: 1.0367 - val_accuracy: 0.4688\n",
            "Epoch 25/50\n",
            "8/8 [==============================] - ETA: 0s - loss: 1.0144 - accuracy: 0.5000\n",
            "Epoch 25: val_accuracy did not improve from 0.62500\n",
            "8/8 [==============================] - 1s 113ms/step - loss: 1.0144 - accuracy: 0.5000 - val_loss: 1.0376 - val_accuracy: 0.4688\n",
            "Epoch 26/50\n",
            "8/8 [==============================] - ETA: 0s - loss: 1.0217 - accuracy: 0.5000\n",
            "Epoch 26: val_accuracy did not improve from 0.62500\n",
            "8/8 [==============================] - 1s 111ms/step - loss: 1.0217 - accuracy: 0.5000 - val_loss: 1.0416 - val_accuracy: 0.4688\n",
            "Epoch 27/50\n",
            "8/8 [==============================] - ETA: 0s - loss: 1.0239 - accuracy: 0.5000\n",
            "Epoch 27: val_accuracy did not improve from 0.62500\n",
            "8/8 [==============================] - 1s 114ms/step - loss: 1.0239 - accuracy: 0.5000 - val_loss: 1.0390 - val_accuracy: 0.4688\n",
            "Epoch 28/50\n",
            "8/8 [==============================] - ETA: 0s - loss: 1.0234 - accuracy: 0.5000\n",
            "Epoch 28: val_accuracy did not improve from 0.62500\n",
            "8/8 [==============================] - 1s 110ms/step - loss: 1.0234 - accuracy: 0.5000 - val_loss: 1.0008 - val_accuracy: 0.5312\n",
            "Epoch 29/50\n",
            "8/8 [==============================] - ETA: 0s - loss: 1.0253 - accuracy: 0.5000\n",
            "Epoch 29: val_accuracy did not improve from 0.62500\n",
            "8/8 [==============================] - 1s 109ms/step - loss: 1.0253 - accuracy: 0.5000 - val_loss: 1.0079 - val_accuracy: 0.4375\n",
            "Epoch 30/50\n",
            "8/8 [==============================] - ETA: 0s - loss: 1.0158 - accuracy: 0.5000\n",
            "Epoch 30: val_accuracy did not improve from 0.62500\n",
            "8/8 [==============================] - 1s 113ms/step - loss: 1.0158 - accuracy: 0.5000 - val_loss: 0.9411 - val_accuracy: 0.5938\n",
            "Epoch 31/50\n",
            "8/8 [==============================] - ETA: 0s - loss: 1.0101 - accuracy: 0.5000\n",
            "Epoch 31: val_accuracy did not improve from 0.62500\n",
            "8/8 [==============================] - 1s 115ms/step - loss: 1.0101 - accuracy: 0.5000 - val_loss: 1.0787 - val_accuracy: 0.4375\n",
            "Epoch 32/50\n",
            "8/8 [==============================] - ETA: 0s - loss: 1.0108 - accuracy: 0.5000\n",
            "Epoch 32: val_accuracy did not improve from 0.62500\n",
            "8/8 [==============================] - 1s 113ms/step - loss: 1.0108 - accuracy: 0.5000 - val_loss: 0.9814 - val_accuracy: 0.5000\n",
            "Epoch 33/50\n",
            "8/8 [==============================] - ETA: 0s - loss: 1.0148 - accuracy: 0.5000\n",
            "Epoch 33: val_accuracy did not improve from 0.62500\n",
            "8/8 [==============================] - 1s 115ms/step - loss: 1.0148 - accuracy: 0.5000 - val_loss: 0.9601 - val_accuracy: 0.5625\n",
            "Epoch 34/50\n",
            "8/8 [==============================] - ETA: 0s - loss: 1.0214 - accuracy: 0.5000\n",
            "Epoch 34: val_accuracy did not improve from 0.62500\n",
            "8/8 [==============================] - 1s 115ms/step - loss: 1.0214 - accuracy: 0.5000 - val_loss: 1.0532 - val_accuracy: 0.4375\n",
            "Epoch 35/50\n",
            "8/8 [==============================] - ETA: 0s - loss: 1.0176 - accuracy: 0.5000\n",
            "Epoch 35: val_accuracy did not improve from 0.62500\n",
            "8/8 [==============================] - 1s 109ms/step - loss: 1.0176 - accuracy: 0.5000 - val_loss: 1.0487 - val_accuracy: 0.5000\n",
            "Epoch 36/50\n",
            "8/8 [==============================] - ETA: 0s - loss: 1.0113 - accuracy: 0.5000\n",
            "Epoch 36: val_accuracy did not improve from 0.62500\n",
            "8/8 [==============================] - 1s 111ms/step - loss: 1.0113 - accuracy: 0.5000 - val_loss: 0.9806 - val_accuracy: 0.5000\n",
            "Epoch 37/50\n",
            "8/8 [==============================] - ETA: 0s - loss: 1.0147 - accuracy: 0.5000\n",
            "Epoch 37: val_accuracy did not improve from 0.62500\n",
            "8/8 [==============================] - 1s 113ms/step - loss: 1.0147 - accuracy: 0.5000 - val_loss: 1.0341 - val_accuracy: 0.5312\n",
            "Epoch 38/50\n",
            "8/8 [==============================] - ETA: 0s - loss: 1.0172 - accuracy: 0.5000\n",
            "Epoch 38: val_accuracy did not improve from 0.62500\n",
            "8/8 [==============================] - 1s 114ms/step - loss: 1.0172 - accuracy: 0.5000 - val_loss: 1.0150 - val_accuracy: 0.4688\n",
            "Epoch 39/50\n",
            "8/8 [==============================] - ETA: 0s - loss: 1.0209 - accuracy: 0.5000\n",
            "Epoch 39: val_accuracy did not improve from 0.62500\n",
            "8/8 [==============================] - 1s 105ms/step - loss: 1.0209 - accuracy: 0.5000 - val_loss: 0.9806 - val_accuracy: 0.5625\n",
            "Epoch 40/50\n",
            "8/8 [==============================] - ETA: 0s - loss: 1.0131 - accuracy: 0.5000\n",
            "Epoch 40: val_accuracy did not improve from 0.62500\n",
            "8/8 [==============================] - 1s 111ms/step - loss: 1.0131 - accuracy: 0.5000 - val_loss: 1.0242 - val_accuracy: 0.5000\n",
            "Epoch 41/50\n",
            "8/8 [==============================] - ETA: 0s - loss: 1.0115 - accuracy: 0.5000\n",
            "Epoch 41: val_accuracy did not improve from 0.62500\n",
            "8/8 [==============================] - 1s 116ms/step - loss: 1.0115 - accuracy: 0.5000 - val_loss: 1.0255 - val_accuracy: 0.5000\n",
            "Epoch 42/50\n",
            "8/8 [==============================] - ETA: 0s - loss: 1.0199 - accuracy: 0.5000\n",
            "Epoch 42: val_accuracy did not improve from 0.62500\n",
            "8/8 [==============================] - 1s 111ms/step - loss: 1.0199 - accuracy: 0.5000 - val_loss: 0.9932 - val_accuracy: 0.5312\n",
            "Epoch 43/50\n",
            "8/8 [==============================] - ETA: 0s - loss: 1.0133 - accuracy: 0.5000\n",
            "Epoch 43: val_accuracy did not improve from 0.62500\n",
            "8/8 [==============================] - 1s 116ms/step - loss: 1.0133 - accuracy: 0.5000 - val_loss: 1.0137 - val_accuracy: 0.5312\n",
            "Epoch 44/50\n",
            "8/8 [==============================] - ETA: 0s - loss: 1.0050 - accuracy: 0.5000\n",
            "Epoch 44: val_accuracy did not improve from 0.62500\n",
            "8/8 [==============================] - 1s 114ms/step - loss: 1.0050 - accuracy: 0.5000 - val_loss: 0.9387 - val_accuracy: 0.5938\n",
            "Epoch 45/50\n",
            "8/8 [==============================] - ETA: 0s - loss: 1.0124 - accuracy: 0.5000\n",
            "Epoch 45: val_accuracy did not improve from 0.62500\n",
            "8/8 [==============================] - 1s 116ms/step - loss: 1.0124 - accuracy: 0.5000 - val_loss: 1.0322 - val_accuracy: 0.4375\n",
            "Epoch 46/50\n",
            "8/8 [==============================] - ETA: 0s - loss: 1.0131 - accuracy: 0.5000\n",
            "Epoch 46: val_accuracy did not improve from 0.62500\n",
            "8/8 [==============================] - 1s 107ms/step - loss: 1.0131 - accuracy: 0.5000 - val_loss: 1.0050 - val_accuracy: 0.5000\n",
            "Epoch 47/50\n",
            "8/8 [==============================] - ETA: 0s - loss: 1.0071 - accuracy: 0.5000\n",
            "Epoch 47: val_accuracy did not improve from 0.62500\n",
            "8/8 [==============================] - 1s 110ms/step - loss: 1.0071 - accuracy: 0.5000 - val_loss: 0.9996 - val_accuracy: 0.4688\n",
            "Epoch 48/50\n",
            "8/8 [==============================] - ETA: 0s - loss: 1.0196 - accuracy: 0.5000\n",
            "Epoch 48: val_accuracy did not improve from 0.62500\n",
            "8/8 [==============================] - 1s 112ms/step - loss: 1.0196 - accuracy: 0.5000 - val_loss: 1.0663 - val_accuracy: 0.4688\n",
            "Epoch 49/50\n",
            "8/8 [==============================] - ETA: 0s - loss: 1.0122 - accuracy: 0.5000\n",
            "Epoch 49: val_accuracy did not improve from 0.62500\n",
            "8/8 [==============================] - 1s 111ms/step - loss: 1.0122 - accuracy: 0.5000 - val_loss: 1.0718 - val_accuracy: 0.4375\n",
            "Epoch 50/50\n",
            "8/8 [==============================] - ETA: 0s - loss: 1.0107 - accuracy: 0.5000\n",
            "Epoch 50: val_accuracy did not improve from 0.62500\n",
            "8/8 [==============================] - 1s 115ms/step - loss: 1.0107 - accuracy: 0.5000 - val_loss: 1.0156 - val_accuracy: 0.4688\n"
          ]
        }
      ]
    },
    {
      "cell_type": "code",
      "source": [
        "plt.plot(vgg_history.history['accuracy'])\n",
        "plt.plot(vgg_history.history['val_accuracy'])\n",
        "plt.plot(vgg_history.history['loss'])\n",
        "plt.plot(vgg_history.history['val_loss'])\n",
        "plt.legend(['train_accuracy','val_accuracy','train_loss','val_loss'])"
      ],
      "metadata": {
        "colab": {
          "base_uri": "https://localhost:8080/",
          "height": 282
        },
        "id": "RcsIzyntJH4C",
        "outputId": "00949d0a-dd6e-4d04-d876-492aa6b04fd5"
      },
      "execution_count": null,
      "outputs": [
        {
          "output_type": "execute_result",
          "data": {
            "text/plain": [
              "<matplotlib.legend.Legend at 0x7f5e415e3390>"
            ]
          },
          "metadata": {},
          "execution_count": 49
        },
        {
          "output_type": "display_data",
          "data": {
            "image/png": "[encoded data removed]",
            "text/plain": [
              "<Figure size 432x288 with 1 Axes>"
            ]
          },
          "metadata": {
            "needs_background": "light"
          }
        }
      ]
    },
    {
      "cell_type": "code",
      "source": [
        "import numpy as np\n",
        "# Generate predictions\n",
        "model.load_weights('/content/gdrive/MyDrive/NNDL/Project/masked-dataset/vgg16_1.h5') # initialize the best trained weights\n",
        "\n",
        "true_classes = testgen.classes\n",
        "class_indices = traingen.class_indices\n",
        "class_indices = dict((v,k) for k,v in class_indices.items())\n",
        "\n",
        "vgg_preds = model.predict(testgen)\n",
        "vgg_pred_classes = np.argmax(vgg_preds, axis=1)"
      ],
      "metadata": {
        "id": "Msdcx2FhAXgY"
      },
      "execution_count": null,
      "outputs": []
    },
    {
      "cell_type": "code",
      "source": [
        "from sklearn.metrics import accuracy_score\n",
        "\n",
        "vgg_acc = accuracy_score(true_classes, vgg_pred_classes)\n",
        "print(\"VGG16 Model Accuracy: {:.2f}%\".format(vgg_acc * 100))"
      ],
      "metadata": {
        "colab": {
          "base_uri": "https://localhost:8080/"
        },
        "id": "EhXzvX_ZAXi3",
        "outputId": "0659c045-ed94-4366-f938-df7b7940d13b"
      },
      "execution_count": null,
      "outputs": [
        {
          "output_type": "stream",
          "name": "stdout",
          "text": [
            "VGG16 Model Accuracy: 45.24%\n"
          ]
        }
      ]
    },
    {
      "cell_type": "code",
      "source": [
        "from sklearn.metrics import classification_report,confusion_matrix\n",
        "print(classification_report(true_classes, vgg_pred_classes))"
      ],
      "metadata": {
        "colab": {
          "base_uri": "https://localhost:8080/"
        },
        "id": "Uzy7FYY3goIr",
        "outputId": "a04785d0-4cad-41b8-b079-6f7967edbfac"
      },
      "execution_count": null,
      "outputs": [
        {
          "output_type": "stream",
          "name": "stdout",
          "text": [
            "              precision    recall  f1-score   support\n",
            "\n",
            "           0       0.00      0.00      0.00        35\n",
            "           1       0.45      1.00      0.62        57\n",
            "           2       0.00      0.00      0.00        34\n",
            "\n",
            "    accuracy                           0.45       126\n",
            "   macro avg       0.15      0.33      0.21       126\n",
            "weighted avg       0.20      0.45      0.28       126\n",
            "\n"
          ]
        },
        {
          "output_type": "stream",
          "name": "stderr",
          "text": [
            "/usr/local/lib/python3.7/dist-packages/sklearn/metrics/_classification.py:1318: UndefinedMetricWarning: Precision and F-score are ill-defined and being set to 0.0 in labels with no predicted samples. Use `zero_division` parameter to control this behavior.\n",
            "  _warn_prf(average, modifier, msg_start, len(result))\n",
            "/usr/local/lib/python3.7/dist-packages/sklearn/metrics/_classification.py:1318: UndefinedMetricWarning: Precision and F-score are ill-defined and being set to 0.0 in labels with no predicted samples. Use `zero_division` parameter to control this behavior.\n",
            "  _warn_prf(average, modifier, msg_start, len(result))\n",
            "/usr/local/lib/python3.7/dist-packages/sklearn/metrics/_classification.py:1318: UndefinedMetricWarning: Precision and F-score are ill-defined and being set to 0.0 in labels with no predicted samples. Use `zero_division` parameter to control this behavior.\n",
            "  _warn_prf(average, modifier, msg_start, len(result))\n"
          ]
        }
      ]
    },
    {
      "cell_type": "code",
      "source": [
        "print(confusion_matrix(true_classes, vgg_pred_classes))"
      ],
      "metadata": {
        "colab": {
          "base_uri": "https://localhost:8080/"
        },
        "id": "TrBieuuAhLN2",
        "outputId": "cda246e4-25a5-43f7-c6a6-c9ffcc882a14"
      },
      "execution_count": null,
      "outputs": [
        {
          "output_type": "stream",
          "name": "stdout",
          "text": [
            "[[ 0 35  0]\n",
            " [ 0 57  0]\n",
            " [ 0 34  0]]\n"
          ]
        }
      ]
    },
    {
      "cell_type": "code",
      "source": [
        "model = tf.keras.models.load_model('/content/gdrive/MyDrive/NNDL/Project/masked-dataset/vgg16_1.h5')\n",
        "img = image.load_img('/content/gdrive/MyDrive/NNDL/Project/sample/happy1_resized.jpg',target_size=(48,48))\n"
      ],
      "metadata": {
        "id": "NLQ0JnlnAXlS"
      },
      "execution_count": null,
      "outputs": []
    },
    {
      "cell_type": "code",
      "source": [
        "plt.imshow(img)\n",
        "plt.show()"
      ],
      "metadata": {
        "colab": {
          "base_uri": "https://localhost:8080/",
          "height": 267
        },
        "id": "bfzsUO5kkM9R",
        "outputId": "3c2172af-5b18-4107-96b2-876747685356"
      },
      "execution_count": null,
      "outputs": [
        {
          "output_type": "display_data",
          "data": {
            "image/png": "[encoded data removed]",
            "text/plain": [
              "<Figure size 432x288 with 1 Axes>"
            ]
          },
          "metadata": {
            "needs_background": "light"
          }
        }
      ]
    },
    {
      "cell_type": "code",
      "source": [
        "from keras.applications.vgg16 import preprocess_input\n",
        "img_preprocessed = preprocess_input(img_batch)"
      ],
      "metadata": {
        "id": "6HbSABcGkM7E"
      },
      "execution_count": null,
      "outputs": []
    },
    {
      "cell_type": "code",
      "source": [
        "prediction = model.predict(img_preprocessed)\n"
      ],
      "metadata": {
        "id": "eXT0KB2lkM4g"
      },
      "execution_count": null,
      "outputs": []
    },
    {
      "cell_type": "code",
      "source": [
        "prediction"
      ],
      "metadata": {
        "colab": {
          "base_uri": "https://localhost:8080/"
        },
        "id": "FfEAoQackUY4",
        "outputId": "3b84b2ff-0efe-4960-ef19-51d5ed821157"
      },
      "execution_count": null,
      "outputs": [
        {
          "output_type": "execute_result",
          "data": {
            "text/plain": [
              "array([[0.33037588, 0.501797  , 0.16782707]], dtype=float32)"
            ]
          },
          "metadata": {},
          "execution_count": 56
        }
      ]
    }
  ]
}