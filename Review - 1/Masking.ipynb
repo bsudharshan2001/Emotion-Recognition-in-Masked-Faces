{
 "cells": [
  {
   "cell_type": "code",
   "execution_count": 1,
   "metadata": {},
   "outputs": [],
   "source": [
    "import cv2\n",
    "import dlib\n",
    "import numpy as np\n",
    "import os\n",
    "import imutils"
   ]
  },
  {
   "cell_type": "code",
   "execution_count": 2,
   "metadata": {},
   "outputs": [],
   "source": [
    "\n",
    "os.chdir(\"D:\\Documents\\Semester 6\\Deep Learning and Neural Networks\\Project\\Datasets\\MaskTest\")\n",
    "path = \"D:\\Documents\\Semester 6\\Deep Learning and Neural Networks\\Project\\Datasets\\MaskTest\\4.png\"\n",
    "\n",
    "color_blue = (239,207,137)\n",
    "color_cyan = (255,200,0)\n",
    "color_black = (0, 0, 0)"
   ]
  },
  {
   "cell_type": "code",
   "execution_count": 4,
   "metadata": {},
   "outputs": [
    {
     "name": "stdout",
     "output_type": "stream",
     "text": [
      "[[[235 237 237]\n",
      "  [246 248 248]\n",
      "  [249 251 251]\n",
      "  ...\n",
      "  [185 172 146]\n",
      "  [180 167 141]\n",
      "  [177 164 138]]\n",
      "\n",
      " [[235 237 237]\n",
      "  [246 248 248]\n",
      "  [249 251 251]\n",
      "  ...\n",
      "  [187 174 148]\n",
      "  [183 170 144]\n",
      "  [180 167 141]]\n",
      "\n",
      " [[235 237 237]\n",
      "  [246 248 248]\n",
      "  [249 251 251]\n",
      "  ...\n",
      "  [190 177 151]\n",
      "  [186 173 147]\n",
      "  [182 169 143]]\n",
      "\n",
      " ...\n",
      "\n",
      " [[  1   1   1]\n",
      "  [  1   1   1]\n",
      "  [  1   1   1]\n",
      "  ...\n",
      "  [ 35  42  79]\n",
      "  [ 20  29  60]\n",
      "  [  6  16  42]]\n",
      "\n",
      " [[  1   1   1]\n",
      "  [  1   1   1]\n",
      "  [  1   1   1]\n",
      "  ...\n",
      "  [ 34  39  75]\n",
      "  [ 20  26  57]\n",
      "  [  9  17  43]]\n",
      "\n",
      " [[  1   1   1]\n",
      "  [  1   1   1]\n",
      "  [  1   1   1]\n",
      "  ...\n",
      "  [ 28  32  68]\n",
      "  [ 15  21  50]\n",
      "  [  8  16  40]]]\n"
     ]
    }
   ],
   "source": [
    "img= cv2.imread(\"D:\\Documents\\Semester 6\\Deep Learning and Neural Networks\\Project\\group.jpg\")\n",
    "img = imutils.resize(img, width = 500)\n",
    "gray=cv2.cvtColor(img, cv2.COLOR_BGR2GRAY)\n",
    "print(img)"
   ]
  },
  {
   "cell_type": "code",
   "execution_count": 5,
   "metadata": {},
   "outputs": [
    {
     "name": "stdout",
     "output_type": "stream",
     "text": [
      "rectangles[[(201, 74) (237, 110)], [(117, 94) (153, 130)], [(395, 89) (439, 132)], [(69, 108) (112, 151)], [(145, 50) (181, 86)], [(31, 36) (74, 79)], [(319, 55) (362, 98)], [(261, 34) (297, 70)]]\n",
      "Number of faces detected:  8\n"
     ]
    },
    {
     "data": {
      "text/plain": [
       "'\\n#  Use for Loop to extract specific coordinates (x1,x2,y1,y2)\\nfor face in faces:\\n  x1 = face.left()\\n  y1 = face.top()\\n  x2 = face.right()\\n  y2 = face.bottom()\\n  #  Draw a rectangle around the detected face\\n  cv2.rectangle(img, (x1,y1), (x2,y2),(0,255,0),3)\\ncv2.imshow(\"image\", img)\\ncv2.waitKey(0)\\ncv2.destroyAllWindows()\\n'"
      ]
     },
     "execution_count": 5,
     "metadata": {},
     "output_type": "execute_result"
    }
   ],
   "source": [
    "#  initialization dlib Face detector \n",
    "detector = dlib.get_frontal_face_detector()\n",
    "\"\"\"\n",
    "Detect faces in grayscale images and create an object - Stores a list of coordinates for the bounding rectangle\n",
    "In the second parameter “1” Indicates that the image should be sampled up 1 Time . \n",
    "This makes the image bigger , And allow us to detect more faces\n",
    "\"\"\"\n",
    "faces = detector(gray, 8)\n",
    "#faces = detector(gray, 1)\n",
    "#  Print the coordinates of the bounding rectangle \n",
    "print(faces)\n",
    "print(\"Number of faces detected: \", len(faces))\n",
    "\"\"\"\n",
    "#  Use for Loop to extract specific coordinates (x1,x2,y1,y2)\n",
    "for face in faces:\n",
    "  x1 = face.left()\n",
    "  y1 = face.top()\n",
    "  x2 = face.right()\n",
    "  y2 = face.bottom()\n",
    "  #  Draw a rectangle around the detected face\n",
    "  cv2.rectangle(img, (x1,y1), (x2,y2),(0,255,0),3)\n",
    "cv2.imshow(\"image\", img)\n",
    "cv2.waitKey(0)\n",
    "cv2.destroyAllWindows()\n",
    "\"\"\""
   ]
  },
  {
   "cell_type": "code",
   "execution_count": 6,
   "metadata": {},
   "outputs": [],
   "source": [
    "#  File path \n",
    "p = \"D:\\Documents\\Semester 6\\Deep Learning and Neural Networks\\Project\\Datasets\\shape_predictor_68_face_landmarks.dat\"\n",
    "#  initialization dlib Predictor of \n",
    "predictor = dlib.shape_predictor(p)\n",
    "#  Use predictors to get shapes \n",
    "for face in faces:\n",
    "    landmarks = predictor(gray, face)\n",
    "    # for n in range(0,68):\n",
    "    #     x = landmarks.part(n).x\n",
    "    #     y = landmarks.part(n).y\n",
    "    #     img_landmark = cv2.circle(img, (x, y), 4, (0, 0, 255), -1)"
   ]
  },
  {
   "cell_type": "code",
   "execution_count": 7,
   "metadata": {},
   "outputs": [
    {
     "name": "stdout",
     "output_type": "stream",
     "text": [
      "You selected mask color = black\n",
      "You chosen wide, medium coverage mask\n",
      "Saving output image to D:\\Documents\\Semester 6\\Deep Learning and Neural Networks\\Project\\Datasets\\MaskTest\\Masked\\imagetest2.jpg\n"
     ]
    },
    {
     "data": {
      "text/plain": [
       "True"
      ]
     },
     "execution_count": 7,
     "metadata": {},
     "output_type": "execute_result"
    }
   ],
   "source": [
    "\n",
    "\n",
    "\n",
    "#  Use input() Function to obtain the mask type and mask color according to user needs \n",
    "choice1 = input(\"Please select the choice of mask color\\nEnter 1 for blue\\nEnter 2 for black:\\n\")\n",
    "choice1 = int(choice1)\n",
    "if choice1 == 1:\n",
    "    choice1 = color_blue\n",
    "    print('You selected mask color = blue')\n",
    "elif choice1 == 2:\n",
    "    choice1 = color_black\n",
    "    print('You selected mask color = black')\n",
    "else:\n",
    "    print(\"invalid selection, please select again.\")\n",
    "    input(\"Please select the choice of mask color\\nEnter 1 for blue\\nEnter 2 for black :\\n\")\n",
    "choice2 = input(\"Please enter choice of mask type coverage \\nEnter 1 for high \\nEnter 2 for medium \\nEnter 3 for low :\\n\")\n",
    "choice2 = int(choice2)\n",
    "if choice2 == 1:\n",
    "    # choice2 = fmask_a\n",
    "    print(f'You chosen wide, high coverage mask')\n",
    "elif choice2 == 2:\n",
    "    # choice2 = fmask_c\n",
    "    print(f'You chosen wide, medium coverage mask')\n",
    "elif choice2 == 3:\n",
    "    # choice2 = fmask_e\n",
    "    print(f'You chosen wide, low coverage mask')\n",
    "else:\n",
    "    print(\"invalid selection, please select again.\")\n",
    "    input(\"Please enter choice of mask type coverage \\nEnter 1 for high \\nEnter 2 for medium \\nEnter 3 for low :\\n\")\n",
    "# print(choice2)\n",
    "\n",
    "\n",
    "#---------------------------------------------------------------------------------------------------\n",
    "\n",
    "points = []\n",
    "for i in range(1, 16):\n",
    "    point = [landmarks.part(i).x, landmarks.part(i).y]\n",
    "    points.append(point)\n",
    "# print(points)\n",
    "#  wide , High coverage masks \n",
    "mask_a = [((landmarks.part(42).x), (landmarks.part(15).y)),\n",
    "          ((landmarks.part(27).x), (landmarks.part(27).y)),\n",
    "          ((landmarks.part(39).x), (landmarks.part(1).y))]\n",
    "#  wide , In the middle of the mask \n",
    "mask_c = [((landmarks.part(29).x), (landmarks.part(29).y))]\n",
    "#  wide 、 Low coverage masks \n",
    "mask_e = [((landmarks.part(35).x), (landmarks.part(35).y)),\n",
    "          ((landmarks.part(34).x), (landmarks.part(34).y)),\n",
    "          ((landmarks.part(33).x), (landmarks.part(33).y)),\n",
    "          ((landmarks.part(32).x), (landmarks.part(32).y)),\n",
    "          ((landmarks.part(31).x), (landmarks.part(31).y))]\n",
    "fmask_a = points + mask_a\n",
    "fmask_c = points + mask_c\n",
    "fmask_e = points + mask_e\n",
    "# mask_type = {1: fmask_a, 2: fmask_c, 3: fmask_e}\n",
    "# mask_type[choice2]\n",
    "#  Use Python OpenCV - cv2.polylines() Method is [mask_type] Draw the mask outline :\n",
    "# fmask_a = wide, high coverage mask,\n",
    "# fmask_c = wide, medium coverage mask,\n",
    "# fmask_e  = wide, low coverage mask\n",
    "fmask_a = np.array(fmask_a, dtype=np.int32)\n",
    "fmask_c = np.array(fmask_c, dtype=np.int32)\n",
    "fmask_e = np.array(fmask_e, dtype=np.int32)\n",
    "mask_type = {1: fmask_a, 2: fmask_c, 3: fmask_e}\n",
    "mask_type[choice2]\n",
    "#  Change parameters [mask_type] and color_type For various combinations \n",
    "img2 = cv2.polylines(img, [mask_type[choice2]], True, choice1, thickness=2, lineType=cv2.LINE_8)\n",
    "#  Use Python OpenCV - cv2.fillPoly() How to fill the mask \n",
    "#  Change parameters [mask_type] and color_type For various combinations \n",
    "img3 = cv2.fillPoly(img2, [mask_type[choice2]], choice1, lineType=cv2.LINE_AA)\n",
    "# cv2.imshow(\"image with mask outline\", img2)\n",
    "cv2.imshow(\"image with mask\", img3)\n",
    "#  Save the output file for the test \n",
    "outputNameofImage = \"D:\\Documents\\Semester 6\\Deep Learning and Neural Networks\\Project\\Datasets\\MaskTest\\Masked\\imagetest2.jpg\"\n",
    "print(\"Saving output image to\", outputNameofImage)\n",
    "cv2.imwrite(outputNameofImage, img3)\n",
    "\n",
    "#---------------------------------------------------------------------------------------------------"
   ]
  },
  {
   "cell_type": "code",
   "execution_count": null,
   "metadata": {},
   "outputs": [],
   "source": []
  }
 ],
 "metadata": {
  "interpreter": {
   "hash": "eb6c4376635bc27d305cc21dfd89240df69056505174e0c3a62918afc8034592"
  },
  "kernelspec": {
   "display_name": "Python 3.9.7 ('New_Environment')",
   "language": "python",
   "name": "python3"
  },
  "language_info": {
   "codemirror_mode": {
    "name": "ipython",
    "version": 3
   },
   "file_extension": ".py",
   "mimetype": "text/x-python",
   "name": "python",
   "nbconvert_exporter": "python",
   "pygments_lexer": "ipython3",
   "version": "3.9.7"
  },
  "orig_nbformat": 4
 },
 "nbformat": 4,
 "nbformat_minor": 2
}
